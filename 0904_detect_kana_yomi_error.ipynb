{
  "nbformat": 4,
  "nbformat_minor": 0,
  "metadata": {
    "colab": {
      "provenance": [],
      "collapsed_sections": [
        "hsYGGJU30m8P",
        "VNtVNOTQ0j2j"
      ],
      "toc_visible": true,
      "authorship_tag": "ABX9TyOLaaaIDOMGW5A5cA2kjd+a",
      "include_colab_link": true
    },
    "kernelspec": {
      "name": "python3",
      "display_name": "Python 3"
    },
    "language_info": {
      "name": "python"
    }
  },
  "cells": [
    {
      "cell_type": "markdown",
      "metadata": {
        "id": "view-in-github",
        "colab_type": "text"
      },
      "source": [
        "<a href=\"https://colab.research.google.com/github/mzhkz/220630-Dapps-handson/blob/completed/0904_detect_kana_yomi_error.ipynb\" target=\"_parent\"><img src=\"https://colab.research.google.com/assets/colab-badge.svg\" alt=\"Open In Colab\"/></a>"
      ]
    },
    {
      "cell_type": "markdown",
      "source": [
        "# 事前準備\n",
        "## 必要なパッケージ等を読み込み/割り当て"
      ],
      "metadata": {
        "id": "LIP0DVX3SAYz"
      }
    },
    {
      "cell_type": "code",
      "source": [
        "! pip install mecab-python3 unidic-lite\n",
        "! pip install plyvel"
      ],
      "metadata": {
        "colab": {
          "base_uri": "https://localhost:8080/"
        },
        "id": "Oig2C9aqrY7B",
        "outputId": "15977bbd-8b9f-49a7-a36e-dede1223efd7"
      },
      "execution_count": null,
      "outputs": [
        {
          "output_type": "stream",
          "name": "stdout",
          "text": [
            "Looking in indexes: https://pypi.org/simple, https://us-python.pkg.dev/colab-wheels/public/simple/\n",
            "Collecting mecab-python3\n",
            "  Downloading mecab_python3-1.0.5-cp37-cp37m-manylinux_2_17_x86_64.manylinux2014_x86_64.whl (574 kB)\n",
            "\u001b[K     |████████████████████████████████| 574 kB 5.3 MB/s \n",
            "\u001b[?25hCollecting unidic-lite\n",
            "  Downloading unidic-lite-1.0.8.tar.gz (47.4 MB)\n",
            "\u001b[K     |████████████████████████████████| 47.4 MB 189 kB/s \n",
            "\u001b[?25hBuilding wheels for collected packages: unidic-lite\n",
            "  Building wheel for unidic-lite (setup.py) ... \u001b[?25l\u001b[?25hdone\n",
            "  Created wheel for unidic-lite: filename=unidic_lite-1.0.8-py3-none-any.whl size=47658836 sha256=b74c2e006d8a9d6b07882619d065169066ae21c7bf52301e46d04b14d6bbd1be\n",
            "  Stored in directory: /root/.cache/pip/wheels/de/69/b1/112140b599f2b13f609d485a99e357ba68df194d2079c5b1a2\n",
            "Successfully built unidic-lite\n",
            "Installing collected packages: unidic-lite, mecab-python3\n",
            "Successfully installed mecab-python3-1.0.5 unidic-lite-1.0.8\n",
            "Looking in indexes: https://pypi.org/simple, https://us-python.pkg.dev/colab-wheels/public/simple/\n",
            "Collecting plyvel\n",
            "  Downloading plyvel-1.4.0-cp37-cp37m-manylinux_2_12_x86_64.manylinux2010_x86_64.whl (693 kB)\n",
            "\u001b[K     |████████████████████████████████| 693 kB 5.2 MB/s \n",
            "\u001b[?25hInstalling collected packages: plyvel\n",
            "Successfully installed plyvel-1.4.0\n"
          ]
        }
      ]
    },
    {
      "cell_type": "code",
      "source": [
        "import numpy as np\n",
        "import requests as reqs\n",
        "import json\n",
        "import regex\n",
        "import plyvel\n",
        "import pickle\n",
        "import MeCab"
      ],
      "metadata": {
        "id": "l_CkY7fnR_5g"
      },
      "execution_count": null,
      "outputs": []
    },
    {
      "cell_type": "markdown",
      "source": [
        "## 作業ディレクトリ（ファイルの読み込みや保存を行う絶対パス）"
      ],
      "metadata": {
        "id": "CpKIv31V__92"
      }
    },
    {
      "cell_type": "code",
      "source": [
        "APP_WORKDIR = \"/content/drive/MyDrive/coefont_kana_converter_error_detector/\""
      ],
      "metadata": {
        "id": "Qsg_nah3_ipM"
      },
      "execution_count": null,
      "outputs": []
    },
    {
      "cell_type": "code",
      "source": [
        "from google.colab import drive\n",
        "drive.mount('/content/drive/')"
      ],
      "metadata": {
        "colab": {
          "base_uri": "https://localhost:8080/"
        },
        "id": "omnti7xwR5FQ",
        "outputId": "77b99043-b11f-41ff-d491-d8cbf0207491"
      },
      "execution_count": null,
      "outputs": [
        {
          "output_type": "stream",
          "name": "stdout",
          "text": [
            "Mounted at /content/drive/\n"
          ]
        }
      ]
    },
    {
      "cell_type": "markdown",
      "source": [
        "### APIのアクセストークンなど機密情報の管理"
      ],
      "metadata": {
        "id": "eSU3i3VYR5cM"
      }
    },
    {
      "cell_type": "code",
      "source": [
        "secrets = {}\n",
        "with open(APP_WORKDIR + 'secrets.json') as f:\n",
        "  secrets = json.load(f)"
      ],
      "metadata": {
        "id": "cA9ux2ZOR9pE"
      },
      "execution_count": null,
      "outputs": []
    },
    {
      "cell_type": "markdown",
      "source": [
        "### データベースのセットアップ（品詞の保存）\n",
        "* 読み書きの早い、Key -> Value型のローカルファイル型データベースをである。\n",
        "* Ethereumのノードの内部ではトランザクションの管理とかでも使われている。\n",
        "* https://github.com/google/leveldb\n",
        "* https://plyvel.readthedocs.io/en/latest/"
      ],
      "metadata": {
        "id": "Enp-uLRI-sCO"
      }
    },
    {
      "cell_type": "code",
      "source": [
        "vocab_db = plyvel.DB(APP_WORKDIR + 'vocabs.ldb', create_if_missing=True)\n",
        "lebels_db = plyvel.DB(APP_WORKDIR + 'lebels.ldb', create_if_missing=True)\n",
        "\n",
        "dbs = [vocab_db, lebels_db]"
      ],
      "metadata": {
        "id": "hG52BVjO-q4A"
      },
      "execution_count": null,
      "outputs": []
    },
    {
      "cell_type": "markdown",
      "source": [
        "### パスを間違えたりして再読み込みする場合は以下セルを実行してから上のセルを実行する"
      ],
      "metadata": {
        "id": "wEDPI9QY_zsA"
      }
    },
    {
      "cell_type": "code",
      "source": [
        "for db in dbs:\n",
        "  db.close()"
      ],
      "metadata": {
        "id": "z_bvONVi_wGX"
      },
      "execution_count": null,
      "outputs": []
    },
    {
      "cell_type": "markdown",
      "source": [
        "## 各種依存記号の設定"
      ],
      "metadata": {
        "id": "qEWp89VHTI3n"
      }
    },
    {
      "cell_type": "code",
      "source": [
        "SYMBOL_READING_POINT = \"、\" # 句読点\n",
        "SYMBOL_PUNCTUATION = \"。\" # 読点\n",
        "SYMBOL_HALF_SPACE = \" \" # 半角スペース\n",
        "SYMBOL_LONG_NOTE = \"ー\" # 伸ばし棒\n",
        "SYMBOL_NONE = \"\" # 空文字\n",
        "SYMBOL_TAB = \"\\t\" # TAB\n",
        "SYMBOL_SEMICORON = \";\" # SEMICORON"
      ],
      "metadata": {
        "id": "LAPCsUi5TINt"
      },
      "execution_count": null,
      "outputs": []
    },
    {
      "cell_type": "markdown",
      "source": [
        "# データソース別のクラス\n",
        "* 単語中抽出に必要な対象（Webページなど）を管理する\n",
        "* 名詞の抽出とMeCabによるよみラベルを管理する。\n",
        "\n",
        "## 要件\n",
        "*   Webサイトからテキストをスクレイピング（Webサイトごとにテンプレートを作成する）\n",
        "*   リンクや特殊記号を排除する\n",
        "*   文章の形態素解析を行い、漢字が含まれている名詞のみを抽出する。\n",
        "\n"
      ],
      "metadata": {
        "id": "VlMjUzYgOt88"
      }
    },
    {
      "cell_type": "markdown",
      "source": [
        "### MecabのWakatiで初期化"
      ],
      "metadata": {
        "id": "hsYGGJU30m8P"
      }
    },
    {
      "cell_type": "code",
      "source": [
        "wakati = MeCab.Tagger()"
      ],
      "metadata": {
        "id": "CSDVVldM0jXR"
      },
      "execution_count": null,
      "outputs": []
    },
    {
      "cell_type": "markdown",
      "source": [
        "### 漢字判定用の正規表現"
      ],
      "metadata": {
        "id": "VNtVNOTQ0j2j"
      }
    },
    {
      "cell_type": "code",
      "source": [
        "KANJI_REG_PETERN = regex.compile(r'\\p{Script=Han}+')"
      ],
      "metadata": {
        "id": "Ym4Waerl0Dwy"
      },
      "execution_count": null,
      "outputs": []
    },
    {
      "cell_type": "markdown",
      "source": [
        "## ローダー"
      ],
      "metadata": {
        "id": "uRtAIwNx2E4m"
      }
    },
    {
      "cell_type": "code",
      "execution_count": null,
      "metadata": {
        "id": "OTxjS4vLOpg_"
      },
      "outputs": [],
      "source": [
        "class DataSource:\n",
        "  def __init__(self):\n",
        "    self.vocabs = []\n",
        "    self.labels = [] \n",
        "\n",
        "  def _fetchData(self): # 文章（テキストデータ）を読み込む、ここは各サービスごとに取得の方法が異なるためオーバーライドする。\n",
        "    pass\n",
        "\n",
        "  def preprosessing(self, subject):\n",
        "    handled = self._replaceSymbol(subject) #ここから文字列\n",
        "    return handled\n",
        "\n",
        "  def _replaceSymbol(self, subject):\n",
        "    sentence = subject.replace(SYMBOL_TAB, SYMBOL_NONE)\n",
        "    return sentence\n",
        "\n",
        "  def load(self):\n",
        "    text = self._fetchData()\n",
        "    text = self.preprosessing(text)\n",
        "    vocabs, labels = self._analysis(text)\n",
        "    self.vocabs = vocabs\n",
        "    self.labels = labels \n",
        "\n",
        "  def _analysis(self, subject):\n",
        "    result = wakati.parse(subject) # 形態素解析分析\n",
        "    vocabs = [line.split(SYMBOL_TAB) for line in result.splitlines()]\n",
        "    nouns = [vocab_data for vocab_data in vocabs if len(vocab_data) >= 4 and \"名詞\" in vocab_data[4][0:2] and KANJI_REG_PETERN.search(vocab_data[0])] # 漢字を含む名詞のみ抽出\n",
        "    return [noun[0] for noun in nouns],  [noun[2] for noun in nouns] # 名詞とMeCabによるかな変換を取得\n",
        "\n",
        "  def save(self, new_count=False):\n",
        "    reg_vocab_count = 0\n",
        "    for vocab, label in zip(self.vocabs, self.labels):\n",
        "      binary_key = vocab.encode(\"utf-8\") # key for level db\n",
        "      binary_lebel = label.encode(\"utf-8\") # key for level db\n",
        "      if new_count and vocab_db.get(binary_key) is None:\n",
        "        reg_vocab_count +=1\n",
        "      vocab_db.put(binary_key, binary_lebel)\n",
        "    return reg_vocab_count"
      ]
    },
    {
      "cell_type": "markdown",
      "source": [
        "## 各種サービスなど、オケージョンごとのローダー\n",
        "\n",
        "ローダーの対象\n",
        "*   note.com （記事サービス）\n",
        "*   wikipedia.org (辞書)\n",
        "*   ローカルファイル\n",
        "*   変数\n",
        "\n"
      ],
      "metadata": {
        "id": "6HYBpVtp2GpO"
      }
    },
    {
      "cell_type": "markdown",
      "source": [
        "### 変数からテキストを読み込む"
      ],
      "metadata": {
        "id": "HeSgc6ik0_72"
      }
    },
    {
      "cell_type": "code",
      "source": [
        "class ArgDataSource(DataSource):\n",
        "  def __init__(self, source):\n",
        "    super().__init__()\n",
        "    self.source = source\n",
        "\n",
        "  def _fetchData(self):\n",
        "    return self.source"
      ],
      "metadata": {
        "id": "kZur9LBQxBnt"
      },
      "execution_count": null,
      "outputs": []
    },
    {
      "cell_type": "markdown",
      "source": [
        "### ローカルのテキストファイルからテキストを読み込む（バイナリファイル未対応）"
      ],
      "metadata": {
        "id": "YDovBKdZ1yhk"
      }
    },
    {
      "cell_type": "code",
      "source": [
        "class LocalDataSource(DataSource):\n",
        "  def __init__(self, file_path):\n",
        "    super().__init__()\n",
        "    self.file_path = file_path\n",
        "\n",
        "  def _fetchData(self):\n",
        "    with open(self.file_path) as f:\n",
        "      lines = f.readlines()\n",
        "      self.source = \"\".join(lines)\n",
        "    return self.source"
      ],
      "metadata": {
        "id": "dCKdod141LF1"
      },
      "execution_count": null,
      "outputs": []
    },
    {
      "cell_type": "markdown",
      "source": [
        "### Note API v2\n",
        "note.comから記事を取得する"
      ],
      "metadata": {
        "id": "niCqReDO1uOs"
      }
    },
    {
      "cell_type": "code",
      "source": [
        "class NoteDataSource(DataSource):\n",
        "  def __init__(self, note_article_key):\n",
        "    super().__init__()\n",
        "    self.note_article_key = note_article_key\n",
        "\n",
        "  def _fetchData(self):\n",
        "    url = \"https://note.com/api/v1/notes/{}\".format(self.note_article_key)\n",
        "    response = reqs.get(url=url)\n",
        "    text = response.text\n",
        "    response_json = json.loads(text)\n",
        "    return response_json[\"data\"][\"body\"]"
      ],
      "metadata": {
        "id": "NBfLg5yC02Pv"
      },
      "execution_count": null,
      "outputs": []
    },
    {
      "cell_type": "markdown",
      "source": [
        "### Wikipedia\n",
        "\n",
        "https://ja.wikipedia.org/w/api.php?format=json&action=query&prop=extracts&exintro&explaintext&redirects=1&titles=%E6%85%B6%E6%87%89%E7%BE%A9%E5%A1%BE%E5%A4%A7%E5%AD%A6"
      ],
      "metadata": {
        "id": "bz-PMmHI2apr"
      }
    },
    {
      "cell_type": "code",
      "source": [
        "class WikipediaDataSource(DataSource):\n",
        "  def __init__(self, title):\n",
        "    super().__init__()\n",
        "    self.title = title\n",
        "\n",
        "  def _fetchData(self):\n",
        "    url = \"https://ja.wikipedia.org/w/api.php?format=json&action=query&prop=extracts&exintro&explaintext&redirects=1\"\n",
        "    params = {\n",
        "        \"titles\": self.title,\n",
        "    }\n",
        "    response = reqs.get(url=url, params=params)\n",
        "    text = response.text\n",
        "    response_json = json.loads(text)\n",
        "    return list(response_json[\"query\"][\"pages\"].values())[0][\"extract\"]"
      ],
      "metadata": {
        "id": "UR8adA3m08z4"
      },
      "execution_count": null,
      "outputs": []
    },
    {
      "cell_type": "markdown",
      "source": [
        "## 各種ローダーのテスト"
      ],
      "metadata": {
        "id": "dYRPRiTr18CJ"
      }
    },
    {
      "cell_type": "code",
      "source": [
        "test01_note_datasource = NoteDataSource(note_article_key=\"n4ece27ed112b\")\n",
        "test01_note_datasource.load()\n",
        "\n",
        "print(test01_note_datasource.vocabs)\n",
        "print(test01_note_datasource.labels)\n",
        "\n",
        "test01_note_datasource.save(new_count=True)"
      ],
      "metadata": {
        "colab": {
          "base_uri": "https://localhost:8080/"
        },
        "id": "KbxdLpJqyQ8I",
        "outputId": "7e907fb0-1c30-42f5-892d-4ba6820ede26"
      },
      "execution_count": null,
      "outputs": [
        {
          "output_type": "stream",
          "name": "stdout",
          "text": [
            "['大学', '入学', '時代', '人間', '選択', '幸せ', '伝播', '自分', '不安', '勉強', '自負', '技術', '修得', '人', '一', '倍', '熱量', '努力', '実際', '学生', '身分', '個人', '開発', '仕事', '社会', '感覚', '自身', '大学', '生活', '半ば', '先生', '方', '言葉', '魂', '所属', '研究', '会', '大学', '友人', '魂', '魂', '価値', '方向', '魂', '言語', '自分', '学び', '本質', '事実', '記事', '魂', '言語', '今後', '学び', '記録', '執筆', '実際', '魂', '自分', '迷走', '逆', '自分', '言葉', '勉強', '自分', '言葉', '体得', '自分', '言葉', '宝物', '月', '終わり', '友人', '勢い', '文中', '箇所', '筆者', '教え', '記事', '理解', '問題', '発見', '解決', '最近', '以外', '問題', '発見', '解決', '中等', '教育', '学校', '反面', '言葉', '本質', '事例', '問題', '発見', '解決', '教育', '時代', '背景', '論点', '整理', '視点', '在学', '骨', '髄', '視点', '変容', '個人', '一', '意見', '参考', '学び', '人', '本当', '少数', '自身', '解釈', '最近', '言語', '学び', '考え', '解釈', '選択', '注意', '公式', '見解', '一切', '自身', '独断', '偏見', '構成', '解釈', '個人', '主張', '念頭', '進学', '意図', '特徴', '理系', '文系', '区別', '自由', '分野', '横断', '学び', '意見', '内外', '耳', '本質', '着眼', '点', '縦割り', '問題', '意識', '背景', '必要', '見解', '縦割り', '対応', '世界', '帰着', '複雑', '問題', '解決', '議論', '解決', '担保', '一', '題材', '価値', '享受', '社会', '世界', '世の中', '幸せ', '発展', '環境', '問題', '背景', '注目', '例', '導入', '暮らし', '以前', '単位', '着眼', '点', '失敗', '事例', '典型', '例', '話題', '考え', '目的', '不在', '問題', '情報', '以前', '恩恵', '世の中', '幸せ', '問い', '探索', '方法', '論', '議論', '先行', '背景', '問い', '取り組み', '事例', '事', '人間', '欲望', '方向', '合理', '道筋', '必要', '理系', '人', '文系', '理系', '縦割り', '社会', '分断', '限り', '人々', '幸せ', '世界', '単体', '人々', '幸せ', '寄与', '価値', '享受', '時代', '幸せ', '根幹', '幸せ', '後者', '先導', '人材', '育成', '力', '最終', '価値', '身', '大学', '年間', '結果', '価値', '創出', '伝達', '付加', '価値', '創造', '連鎖', '今', '世界', '命題', '一', '量産', '輸出', '世界', '人々', '幸せ', '本質', '世界', '時代', '時代', '価値', '世界', '価値', '変化', '対応', '力', '通り', '量産', '世界', '本質', '力', '知識', '価値', '創造', '選択', '世界', '教育', '教育', '問いかけ', '必要', '大学', '教育', '性質', '着目', '見解', '高校', '大学', '思考', '段', '高校', '指導', '要領', '大学', '受験', '上', '補完', '大体', '偏差', '大学', '進学', '目標', '学校', '塾', '教育', '解決', '受験', '上', '多く', '高校', '補完', '高校', '力', '補完', '時代', '本質', '見直し', '以前', '力', '必要', '先ほど', '問い', '探索', '未来', '現在', '逆算', '実現', '部分', '力', '問題', '意識', '力', '高校', '本質', '力', '学び', '本質', '気づき', '実際', '体得', '力', '身', '時間', '必要', '頭', '勉強', '人', '高校', '一', '番', '学部', '生活', '年間', '本質', '魅力', '他', '学部', '他', '大学', '評価', '軸', '軸', '軸', '自ら', '自ら', '軸', '補完', '学び', '場所', '全知', '全能', '認識', '自ら', '自走', '変化', '対応', '力', '教育', '目的', '環境', '維持', '力', '問題', '発見', '解決', '原点', '生産', '活動', '土台', '要約', '自分', '補完', '具材', '存在', '深み', '説得', '要求', '大体', '学問', '幅', '用意', '深み', '構造', '体', '変化', '意識', '本質', '能力', '主眼', '学び', '軸', '問い', '意識', '基本', '分野', '横断', '意識', '分野', '横断', '主', '目的', '意識', '必然', '現象', '評価', '軸', '自体', '論点', '最初', '問い', '問題', '発見', '解決', '学び', '教育', '脱却', '教育', '教育', '選択', '記事', '用語', '選択', '集中', '言葉', '経営', '方向', '選択', '達成', '勢力', '集中', '事業', '拡大', '話', '大学', '受験', '説明', '受験', '勉強', '本格', '前', '勉強', '分野', '学部', '進学', '大学', '選択', '合格', '後', '受験', '勉強', '形', '補完', '集中', '大学', '受験', '経験', '人', '必然', '選択', '集中', '皆', '経験', '今', '現在', '集中', '補完', '裏', '集中', '集中', '相対', '選択', '着眼', '点', '今後', '発展', '文系', '人材', '技術', '革新', '時代', '理系', '人材', '存在', '意義', '意見', '巷', '機会', '未来', '二', '文系', '理系', '条件', '軸', '集中', '選択', '分類', '記事', '頭出し', '縦割り', '対応', '世界', '趣旨', '主張', '自身', '専攻', '身', '技術', '未来', '技術', '期待', '情報', '技術', '生活', '空間', '浸透', '現状', '未来', '上', '素養', '必要', '場面', '上', '理系', '人材', '裏', '社会', '強み', '理由', '確立', '存在', '余白', '存在', '本当', '未来', '今', '今', '本当', '子孫', '未来', '問題', '意識', '重点', '自身', '目', '前', '問い', '未来', '問い', '選択', '未来', '視点', '時間', '参考', '共有']\n",
            "['ダイガク', 'ニュウガク', 'ジダイ', 'ニンゲン', 'センタク', 'シアワセ', 'デンパ', 'ジブン', 'フアン', 'ベンキョウ', 'ジフ', 'ギジュツ', 'シュウトク', 'ヒト', 'イチ', 'バイ', 'ネツリョウ', 'ドリョク', 'ジッサイ', 'ガクセイ', 'ミブン', 'コジン', 'カイハツ', 'シゴト', 'シャカイ', 'カンカク', 'ジシン', 'ダイガク', 'セイカツ', 'ナカバ', 'センセイ', 'ホウ', 'コトバ', 'タマシイ', 'ショゾク', 'ケンキュウ', 'カイ', 'ダイガク', 'ユウジン', 'タマシイ', 'タマシイ', 'カチ', 'ホウコウ', 'タマシイ', 'ゲンゴ', 'ジブン', 'マナビ', 'ホンシツ', 'ジジツ', 'キジ', 'タマシイ', 'ゲンゴ', 'コンゴ', 'マナビ', 'キロク', 'シッピツ', 'ジッサイ', 'タマシイ', 'ジブン', 'メイソウ', 'ギャク', 'ジブン', 'コトバ', 'ベンキョウ', 'ジブン', 'コトバ', 'タイトク', 'ジブン', 'コトバ', 'タカラモノ', 'ガツ', 'オワリ', 'ユウジン', 'イキオイ', 'ブンチュウ', 'カショ', 'ヒッシャ', 'オシエ', 'キジ', 'リカイ', 'モンダイ', 'ハッケン', 'カイケツ', 'サイキン', 'イガイ', 'モンダイ', 'ハッケン', 'カイケツ', 'チュウトウ', 'キョウイク', 'ガッコウ', 'ハンメン', 'コトバ', 'ホンシツ', 'ジレイ', 'モンダイ', 'ハッケン', 'カイケツ', 'キョウイク', 'ジダイ', 'ハイケイ', 'ロンテン', 'セイリ', 'シテン', 'ザイガク', 'ホネ', 'ズイ', 'シテン', 'ヘンヨウ', 'コジン', 'ヒト', 'イケン', 'サンコウ', 'マナビ', 'ヒト', 'ホントウ', 'ショウスウ', 'ジシン', 'カイシャク', 'サイキン', 'ゲンゴ', 'マナビ', 'カンガエ', 'カイシャク', 'センタク', 'チュウイ', 'コウシキ', 'ケンカイ', 'イッサイ', 'ジシン', 'ドクダン', 'ヘンケン', 'コウセイ', 'カイシャク', 'コジン', 'シュチョウ', 'ネントウ', 'シンガク', 'イト', 'トクチョウ', 'リケイ', 'ブンケイ', 'クベツ', 'ジユウ', 'ブンヤ', 'オウダン', 'マナビ', 'イケン', 'ナイガイ', 'ミミ', 'ホンシツ', 'チャクガン', 'テン', 'タテワリ', 'モンダイ', 'イシキ', 'ハイケイ', 'ヒツヨウ', 'ケンカイ', 'タテワリ', 'タイオウ', 'セカイ', 'キチャク', 'フクザツ', 'モンダイ', 'カイケツ', 'ギロン', 'カイケツ', 'タンポ', 'ヒト', 'ダイザイ', 'カチ', 'キョウジュ', 'シャカイ', 'セカイ', 'ヨノナカ', 'シアワセ', 'ハッテン', 'カンキョウ', 'モンダイ', 'ハイケイ', 'チュウモク', 'レイ', 'ドウニュウ', 'クラシ', 'イゼン', 'タンイ', 'チャクガン', 'テン', 'シッパイ', 'ジレイ', 'テンケイ', 'レイ', 'ワダイ', 'カンガエ', 'モクテキ', 'フザイ', 'モンダイ', 'ジョウホウ', 'イゼン', 'オンケイ', 'ヨノナカ', 'シアワセ', 'トイ', 'タンサク', 'ホウホウ', 'ロン', 'ギロン', 'センコウ', 'ハイケイ', 'トイ', 'トリクミ', 'ジレイ', 'コト', 'ニンゲン', 'ヨクボウ', 'ホウコウ', 'ゴウリ', 'ミチスジ', 'ヒツヨウ', 'リケイ', 'ヒト', 'ブンケイ', 'リケイ', 'タテワリ', 'シャカイ', 'ブンダン', 'カギリ', 'ヒトビト', 'シアワセ', 'セカイ', 'タンタイ', 'ヒトビト', 'シアワセ', 'キヨ', 'カチ', 'キョウジュ', 'ジダイ', 'シアワセ', 'コンカン', 'シアワセ', 'コウシャ', 'センドウ', 'ジンザイ', 'イクセイ', 'チカラ', 'サイシュウ', 'カチ', 'ミ', 'ダイガク', 'ネンカン', 'ケッカ', 'カチ', 'ソウシュツ', 'デンタツ', 'フカ', 'カチ', 'ソウゾウ', 'レンサ', 'イマ', 'セカイ', 'メイダイ', 'ヒト', 'リョウサン', 'ユシュツ', 'セカイ', 'ヒトビト', 'シアワセ', 'ホンシツ', 'セカイ', 'ジダイ', 'ジダイ', 'カチ', 'セカイ', 'カチ', 'ヘンカ', 'タイオウ', 'チカラ', 'トオリ', 'リョウサン', 'セカイ', 'ホンシツ', 'チカラ', 'チシキ', 'カチ', 'ソウゾウ', 'センタク', 'セカイ', 'キョウイク', 'キョウイク', 'トイカケ', 'ヒツヨウ', 'ダイガク', 'キョウイク', 'セイシツ', 'チャクモク', 'ケンカイ', 'コウコウ', 'ダイガク', 'シコウ', 'ダン', 'コウコウ', 'シドウ', 'ヨウリョウ', 'ダイガク', 'ジュケン', 'ウエ', 'ホカン', 'ダイタイ', 'ヘンサ', 'ダイガク', 'シンガク', 'モクヒョウ', 'ガッコウ', 'ジュク', 'キョウイク', 'カイケツ', 'ジュケン', 'ウエ', 'オオク', 'コウコウ', 'ホカン', 'コウコウ', 'チカラ', 'ホカン', 'ジダイ', 'ホンシツ', 'ミナオシ', 'イゼン', 'チカラ', 'ヒツヨウ', 'サキホド', 'トイ', 'タンサク', 'ミライ', 'ゲンザイ', 'ギャクサン', 'ジツゲン', 'ブブン', 'チカラ', 'モンダイ', 'イシキ', 'チカラ', 'コウコウ', 'ホンシツ', 'チカラ', 'マナビ', 'ホンシツ', 'キヅキ', 'ジッサイ', 'タイトク', 'チカラ', 'ミ', 'ジカン', 'ヒツヨウ', 'アタマ', 'ベンキョウ', 'ヒト', 'コウコウ', 'イチ', 'バン', 'ガクブ', 'セイカツ', 'ネンカン', 'ホンシツ', 'ミリョク', 'タ', 'ガクブ', 'タ', 'ダイガク', 'ヒョウカ', 'ジク', 'ジク', 'ジク', 'ミズカラ', 'ミズカラ', 'ジク', 'ホカン', 'マナビ', 'バショ', 'ゼンチ', 'ゼンノウ', 'ニンシキ', 'ミズカラ', 'ジソウ', 'ヘンカ', 'タイオウ', 'チカラ', 'キョウイク', 'モクテキ', 'カンキョウ', 'イジ', 'チカラ', 'モンダイ', 'ハッケン', 'カイケツ', 'ゲンテン', 'セイサン', 'カツドウ', 'ドダイ', 'ヨウヤク', 'ジブン', 'ホカン', 'グザイ', 'ソンザイ', 'フカミ', 'セットク', 'ヨウキュウ', 'ダイタイ', 'ガクモン', 'ハバ', 'ヨウイ', 'フカミ', 'コウゾウ', 'タイ', 'ヘンカ', 'イシキ', 'ホンシツ', 'ノウリョク', 'シュガン', 'マナビ', 'ジク', 'トイ', 'イシキ', 'キホン', 'ブンヤ', 'オウダン', 'イシキ', 'ブンヤ', 'オウダン', 'シュ', 'モクテキ', 'イシキ', 'ヒツゼン', 'ゲンショウ', 'ヒョウカ', 'ジク', 'ジタイ', 'ロンテン', 'サイショ', 'トイ', 'モンダイ', 'ハッケン', 'カイケツ', 'マナビ', 'キョウイク', 'ダッキャク', 'キョウイク', 'キョウイク', 'センタク', 'キジ', 'ヨウゴ', 'センタク', 'シュウチュウ', 'コトバ', 'ケイエイ', 'ホウコウ', 'センタク', 'タッセイ', 'セイリョク', 'シュウチュウ', 'ジギョウ', 'カクダイ', 'ハナシ', 'ダイガク', 'ジュケン', 'セツメイ', 'ジュケン', 'ベンキョウ', 'ホンカク', 'マエ', 'ベンキョウ', 'ブンヤ', 'ガクブ', 'シンガク', 'ダイガク', 'センタク', 'ゴウカク', 'アト', 'ジュケン', 'ベンキョウ', 'カタチ', 'ホカン', 'シュウチュウ', 'ダイガク', 'ジュケン', 'ケイケン', 'ヒト', 'ヒツゼン', 'センタク', 'シュウチュウ', 'ミナ', 'ケイケン', 'イマ', 'ゲンザイ', 'シュウチュウ', 'ホカン', 'ウラ', 'シュウチュウ', 'シュウチュウ', 'ソウタイ', 'センタク', 'チャクガン', 'テン', 'コンゴ', 'ハッテン', 'ブンケイ', 'ジンザイ', 'ギジュツ', 'カクシン', 'ジダイ', 'リケイ', 'ジンザイ', 'ソンザイ', 'イギ', 'イケン', 'チマタ', 'キカイ', 'ミライ', 'ニ', 'ブンケイ', 'リケイ', 'ジョウケン', 'ジク', 'シュウチュウ', 'センタク', 'ブンルイ', 'キジ', 'アタマダシ', 'タテワリ', 'タイオウ', 'セカイ', 'シュシ', 'シュチョウ', 'ジシン', 'センコウ', 'ミ', 'ギジュツ', 'ミライ', 'ギジュツ', 'キタイ', 'ジョウホウ', 'ギジュツ', 'セイカツ', 'クウカン', 'シントウ', 'ゲンジョウ', 'ミライ', 'ウエ', 'ソヨウ', 'ヒツヨウ', 'バメン', 'ウエ', 'リケイ', 'ジンザイ', 'ウラ', 'シャカイ', 'ツヨミ', 'リユウ', 'カクリツ', 'ソンザイ', 'ヨハク', 'ソンザイ', 'ホントウ', 'ミライ', 'イマ', 'イマ', 'ホントウ', 'シソン', 'ミライ', 'モンダイ', 'イシキ', 'ジュウテン', 'ジシン', 'メ', 'マエ', 'トイ', 'ミライ', 'トイ', 'センタク', 'ミライ', 'シテン', 'ジカン', 'サンコウ', 'キョウユウ']\n"
          ]
        },
        {
          "output_type": "execute_result",
          "data": {
            "text/plain": [
              "0"
            ]
          },
          "metadata": {},
          "execution_count": 17
        }
      ]
    },
    {
      "cell_type": "code",
      "source": [
        "test01_wiki_datasource = WikipediaDataSource(title=\"慶應義塾大学\")\n",
        "test01_wiki_datasource.load()\n",
        "\n",
        "print(test01_wiki_datasource.vocabs)\n",
        "print(test01_wiki_datasource.labels)\n",
        "\n",
        "test01_wiki_datasource.save(new_count=True)"
      ],
      "metadata": {
        "colab": {
          "base_uri": "https://localhost:8080/"
        },
        "id": "TiTVUKj-4PGY",
        "outputId": "fbf878f3-2e9e-4a8e-c278-78a231977a08"
      },
      "execution_count": null,
      "outputs": [
        {
          "output_type": "stream",
          "name": "stdout",
          "text": [
            "['慶應', '義塾', '大学', '英語', '東京', '都', '港', '区', '三田', '丁目', '番', '号', '本部', '日本', '私立', '大学', '年', '創立', '年', '大学', '設置', '大学', '略称', '慶應', '慶大', '應', '旧', '字体', '報道', '慶応', '表記']\n",
            "['ケイオウ', 'ギジュク', 'ダイガク', 'エイゴ', 'トウキョウ', 'ト', 'ミナト', 'ク', 'ミタ', 'チョウメ', 'バン', 'ゴウ', 'ホンブ', 'ニッポン', 'シリツ', 'ダイガク', 'ネン', 'ソウリツ', 'ネン', 'ダイガク', 'セッチ', 'ダイガク', 'リャクショウ', 'ケイオウ', 'ケイダイ', '應', 'キュウ', 'ジタイ', 'ホウドウ', 'ケイオウ', 'ヒョウキ']\n"
          ]
        },
        {
          "output_type": "execute_result",
          "data": {
            "text/plain": [
              "24"
            ]
          },
          "metadata": {},
          "execution_count": 16
        }
      ]
    },
    {
      "cell_type": "markdown",
      "source": [
        "# コンバーターのクラス\n",
        "\n",
        "* 漢字をかな変換するコンバータ\n",
        "* クラスとして機能を丸めることで複数のコンバーターの差異を吸収する。コンバーターを適用する順序を入れ替えるなど"
      ],
      "metadata": {
        "id": "fXVrUefMPnF4"
      }
    },
    {
      "cell_type": "code",
      "source": [
        "class BaseConverter:\n",
        "  def __init__(self, conveter_name):\n",
        "    self.converter_name = conveter_name\n",
        "    self.split_code = SYMBOL_SEMICORON\n",
        "\n",
        "  def preprosessing(self, subject):\n",
        "    return subject\n",
        "\n",
        "  def convert(self, vocabs):\n",
        "    print(vocabs)\n",
        "    sentence = SYMBOL_SEMICORON.join(vocabs)\n",
        "    result = self._execute_api(sentence)\n",
        "    converted_vocabs = [self.preprosessing(vocab) for vocab in result.split(SYMBOL_SEMICORON)]\n",
        "    print(converted_vocabs)\n",
        "    return converted_vocabs\n",
        "\n",
        "  def get_indexkey(self, noun):\n",
        "    return \"{}_{}\".format(self.converter_name, noun).encode(\"utf-8\")"
      ],
      "metadata": {
        "id": "8NiZ62R3RxUz"
      },
      "execution_count": null,
      "outputs": []
    },
    {
      "cell_type": "markdown",
      "source": [
        "## CoeFont API (target)\n",
        "* CoefontのAPIのアクセス方法とアクセスキーが変わり次第、実装する"
      ],
      "metadata": {
        "id": "8LoJLI8UOGZ4"
      }
    },
    {
      "cell_type": "code",
      "source": [
        "SYMBOL_TRIGGER_1 = [\n",
        "        [\"オ\", \"コ\", \"ソ\", \"ト\", \"ノ\", \"ホ\", \"モ\", \"ヨ\", \"ロ\", \"ヲ\"],\n",
        "        [\"エ\", \"ケ\", \"セ\", \"ネ\", \"ヘ\", \"メ\", \"レ\"], # removed テ\n",
        "        [\"ア\", \"カ\", \"サ\", \"タ\", \"ナ\", \"ハ\", \"マ\", \"ラ\", \"ヤ\", \"ラ\", \"ワ\"]\n",
        "        ]\n",
        "\n",
        "SYMBOL_TRIGGER_2 = [\n",
        "        [\"ウ\"],\n",
        "        [\"イ\"],\n",
        "        [\"ア\"]\n",
        "        ]\n",
        "\n",
        "class CoeFontConverter(BaseConverter):\n",
        "  def __init__(self, api_key):\n",
        "    super().__init__(\"coefont\")\n",
        "    self.api_key = api_key\n",
        "\n",
        "  def _execute_api(self, sentence):\n",
        "    # coefontの実装\n",
        "    pass\n",
        "\n",
        "  def preprosessing(self, subject):\n",
        "    list_kat_subject = list(subject)\n",
        "    kat_subject_size = len(list_kat_subject)-1\n",
        "    idkc = 0\n",
        "    while  idkc < kat_subject_size:\n",
        "      kat_char_pointer = list_kat_subject[idkc]\n",
        "      kat_char_next = list_kat_subject[idkc+1]\n",
        "      if kat_char_next == SYMBOL_LONG_NOTE:\n",
        "         for ids, symbols in enumerate(SYMBOL_TRIGGER_1):\n",
        "           if kat_char_pointer in symbols:\n",
        "               list_kat_subject[idkc+1] = SYMBOL_TRIGGER_2[ids][0]\n",
        "               idkc+=1\n",
        "      idkc+=1\n",
        "    return \"\".join(list_kat_subject)"
      ],
      "metadata": {
        "id": "nHuLN8qLQOfu"
      },
      "execution_count": null,
      "outputs": []
    },
    {
      "cell_type": "markdown",
      "source": [
        "## Goo API\n",
        "* かな変換APIを使用する。\n",
        "* ドキュメントはこちら\n",
        "  * https://labs.goo.ne.jp/api/jp/hiragana-translation/"
      ],
      "metadata": {
        "id": "Hnp4QEbQOLne"
      }
    },
    {
      "cell_type": "code",
      "source": [
        "class GooConverter(BaseConverter):\n",
        "  def __init__(self, app_id):\n",
        "    super().__init__(\"goo\")\n",
        "    self.app_id = app_id\n",
        "\n",
        "  def _execute_api(self, sentence):\n",
        "    url = \"https://labs.goo.ne.jp/api/hiragana\"\n",
        "    params = {\n",
        "        \"app_id\": self.app_id,\n",
        "        \"sentence\": sentence,\n",
        "        \"output_type\": \"katakana\"\n",
        "    }\n",
        "\n",
        "    headers = {'Content-Type': 'application/json'}\n",
        "\n",
        "    r = reqs.post(url=url, data=params)\n",
        "    response_text = r.text\n",
        "    print(response_text)\n",
        "    response_json = json.loads(response_text)\n",
        "    return response_json[\"converted\"]\n",
        "\n",
        "  def preprosessing(self, subject):\n",
        "     return subject.replace(SYMBOL_HALF_SPACE, SYMBOL_NONE)"
      ],
      "metadata": {
        "id": "VhNvRmfDvruk"
      },
      "execution_count": null,
      "outputs": []
    },
    {
      "cell_type": "markdown",
      "source": [
        "# データソース毎に読みの検証を行う\n",
        "* コンバータを用いてCoeFontの単語出力と比較を行う。\n",
        "* 比較の結果、不一致だった場合は他のコンバーターにおいても比較を行い、正解ラベルを付与できるよう分布を収束させる。"
      ],
      "metadata": {
        "id": "8n6ZLt9ZPd09"
      }
    },
    {
      "cell_type": "code",
      "source": [
        "class ConverterCompetition:\n",
        "  def __init__(self, converters):\n",
        "    self.converters = converters\n",
        "\n",
        "  def _convert_all_on(self, data_source, converter_id):\n",
        "    vocabs = data_source.vocabs\n",
        "    converter = self.converters[converter_id]\n",
        "\n",
        "    db_keys = [converter.get_indexkey(vocab) for vocab in vocabs]\n",
        "    caches = [lebels_db.get(db_key) for db_key in db_keys] # キャッシュがあったら1 なければ 0\n",
        "    entred_vocab = [vocab for idv, vocab in enumerate(vocabs) if caches[idv] is None] # キャッシュがなければあたらしくしゅとくする\n",
        "\n",
        "    new_yomi_labels = []\n",
        "    if (len(entred_vocab) > 0):\n",
        "      new_yomi_labels = converter.convert(entred_vocab)\n",
        "\n",
        "    for vocab, label in zip(entred_vocab, new_yomi_labels):\n",
        "      lebels_db.put(converter.get_indexkey(vocab), label.encode(\"utf-8\")) #　データベースに新しい単語を保存\n",
        "\n",
        "    yomi_labels = []\n",
        "    iter_new_yomi_labels = iter(new_yomi_labels)\n",
        "    for idc, cache in enumerate(caches):\n",
        "      if cache:\n",
        "        yomi_labels.append(cache.decode(\"utf-8\")) # キャッシュ（db）にある場合はキャッシュから取得\n",
        "      else:\n",
        "        yomi_labels.append(next(iter_new_yomi_labels)) # ない場合は、先ほど変換した結果から取得\n",
        "    \n",
        "    return vocabs, yomi_labels\n",
        "\n",
        "  def compete(self, data_source, converter_id=0):\n",
        "    vocabs, yomi_labels = self._convert_all_on(data_source, converter_id)\n",
        "    errors = []\n",
        "    for idn, noun in enumerate(vocabs):\n",
        "      yomi_label = yomi_labels[idn]\n",
        "      mecab_label = data_source.labels[idn]\n",
        "\n",
        "      if yomi_label != mecab_label:\n",
        "         errors.append([noun, yomi_label, mecab_label])\n",
        "    return errors"
      ],
      "metadata": {
        "id": "FHm61F4SQOyl"
      },
      "execution_count": null,
      "outputs": []
    },
    {
      "cell_type": "code",
      "source": [
        "test_04_converters = [CoeFontConverter(api_key=\"\"), GooConverter(app_id=secrets[\"goo_api_id\"])]\n",
        "test_04_competition = ConverterCompetition(converters=test_04_converters)\n",
        "\n",
        "test_04_competition.compete(test01_note_datasource,converter_id=1) # noteの記事をデータソースにgooAPIを検証する。"
      ],
      "metadata": {
        "colab": {
          "base_uri": "https://localhost:8080/"
        },
        "id": "2m4N-jM6QbBJ",
        "outputId": "f17b174c-d46a-4b5c-cc2c-de301a4efcc1"
      },
      "execution_count": 25,
      "outputs": [
        {
          "output_type": "execute_result",
          "data": {
            "text/plain": [
              "[['月', 'ツキ', 'ガツ'],\n",
              " ['一', 'イチ', 'ヒト'],\n",
              " ['一', 'イチ', 'ヒト'],\n",
              " ['一', 'イチ', 'ヒト'],\n",
              " ['他', 'ホカ', 'タ'],\n",
              " ['他', 'ホカ', 'タ'],\n",
              " ['体', 'カラダ', 'タイ'],\n",
              " ['二', 'ニー', 'ニ']]"
            ]
          },
          "metadata": {},
          "execution_count": 25
        }
      ]
    },
    {
      "cell_type": "markdown",
      "source": [
        "# データソースを自動的に取得する\n",
        "* データソースを主導で作成するのではなく、永続的に新しいデータソースから単語を取得できるエコシステムを構築する\n",
        "\n",
        "* WebhookやWebsoket, Server-sent Eventなどを用いてデータソースを自動で収集する\n",
        "(Wikipediaのstreaming機能など)\n",
        "\n",
        "## 要件\n",
        "*   永続的にプログラムがデータソースを自動で生成する\n",
        "*   単語のバリエーションの広がりを担保する\n",
        "\n",
        "\n",
        "\n",
        "\n",
        "\n",
        "\n"
      ],
      "metadata": {
        "id": "1yAaRptcOxlD"
      }
    },
    {
      "cell_type": "markdown",
      "source": [
        "## 案1: Wikipedia Streaming\n",
        "\n",
        "*   SSEにかけて、日本語のwikipediaの更新ログをとる\n",
        "*   WikipediaDataSourceにかけて、単語と第一レイヤーの読み予測ラベル（MeCab）を取得する。\n",
        "*   単語ごとに過去にCoeFontで検証したかどうかを問い合わせる。以下の条件を満たした場合は単語は次へ\n",
        "  * キーが「subject_noun」のvalueがNoneかどうか: Coefontの結果をすでに持っているか\n",
        "  * キーが「test_noun」のvalueがNoneかどうか: 検証が既に完了済みの名詞かどうか\n",
        "*   Coefontへ品詞のよみ変換をAPI経由で取得する。（いくつかの未検証の単語をまとめてバッチ処理）\n",
        "*   第一レイヤーの読み予測ラベルとCoeFontの読みが一致しなかった場合、第二レイヤーのコンバーターで比較を行う。\n",
        "*   過半数以上のよみを正解ラベルとしてデータベースおよびSpreadsheetに記録\n",
        "*  **これらを再帰的に実行**"
      ],
      "metadata": {
        "id": "SoM2ePXtLXMC"
      }
    },
    {
      "cell_type": "code",
      "source": [],
      "metadata": {
        "id": "YdIYYzuZN__j"
      },
      "execution_count": null,
      "outputs": []
    },
    {
      "cell_type": "markdown",
      "source": [
        "# 実行"
      ],
      "metadata": {
        "id": "qyrs5hYiS-F4"
      }
    },
    {
      "cell_type": "code",
      "source": [],
      "metadata": {
        "id": "xJmdIhm9TBP8"
      },
      "execution_count": null,
      "outputs": []
    }
  ]
}